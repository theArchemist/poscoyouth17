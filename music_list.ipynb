{
 "cells": [
  {
   "cell_type": "markdown",
   "metadata": {},
   "source": [
    "# 위로가 되는 노래\n",
    "    Coldplay - Fix You\n",
    "    이민석 - 초연\n",
    "\n",
    "# 힘이 되는 노래\n",
    "    패닉! 앳 더 디스코 - High Hopes\n",
    "    Ed Sheeran - Castle on the Hill\n",
    "    Mate - 하늘을 날아"
   ]
  }
 ],
 "metadata": {
  "language_info": {
   "name": "python"
  },
  "orig_nbformat": 4
 },
 "nbformat": 4,
 "nbformat_minor": 2
}
