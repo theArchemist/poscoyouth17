{
 "cells": [
  {
   "cell_type": "markdown",
   "metadata": {},
   "source": [
    "# 위로가 되는 노래\n",
    "    Coldplay - Fix You\n",
    "    이민석 - 초연\n",
    "\n",
    "# 힘이 되는 노래\n",
    "    패닉! 앳 더 디스코 - High Hopes\n",
    "    Ed Sheeran - Castle on the Hill\n",
    "    Mate - 하늘을 날아\n",
    "# 슬픈 노래\n",
    "    Coldplay - Everglow\n",
    "    버스커버스커 - 정류장\n",
    "\n",
    "# 명언\n",
    "    When you want something, all the universe consplires in helping you to achieve it."
   ]
  }
 ],
 "metadata": {
  "language_info": {
   "name": "python"
  },
  "orig_nbformat": 4
 },
 "nbformat": 4,
 "nbformat_minor": 2
}
