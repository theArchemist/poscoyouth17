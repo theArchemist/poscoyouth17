{
 "cells": [
  {
   "cell_type": "markdown",
   "metadata": {},
   "source": [
    "# 위로가 되는 노래\n",
    "    Coldplay - Fix You\n",
    "    이민석 - 초연\n",
    "\n",
    "# 슬픈 노래\n",
    "    Coldplay - Everglow\n",
    "    버스커버스커 - 정류장"
   ]
  }
 ],
 "metadata": {
  "language_info": {
   "name": "python"
  },
  "orig_nbformat": 4
 },
 "nbformat": 4,
 "nbformat_minor": 2
}
